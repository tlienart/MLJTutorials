{
 "cells": [
  {
   "cell_type": "code",
   "execution_count": 1,
   "metadata": {},
   "outputs": [
    {
     "data": {
      "text/plain": [
       "MersenneTwister(UInt32[0x000004d2])"
      ]
     },
     "execution_count": 1,
     "metadata": {},
     "output_type": "execute_result"
    }
   ],
   "source": [
    "using MLJ, RDatasets\n",
    "using Random: seed!\n",
    "seed!(1234)"
   ]
  },
  {
   "cell_type": "code",
   "execution_count": 2,
   "metadata": {},
   "outputs": [
    {
     "data": {
      "text/plain": [
       "\u001b[34mSupervisedTask @ 1…41\u001b[39m\n"
      ]
     },
     "execution_count": 2,
     "metadata": {},
     "output_type": "execute_result"
    }
   ],
   "source": [
    "task = load_iris()\n",
    "shuffle!(task)"
   ]
  },
  {
   "cell_type": "code",
   "execution_count": 3,
   "metadata": {},
   "outputs": [
    {
     "name": "stdout",
     "output_type": "stream",
     "text": [
      "import MLJModels ✔\n",
      "import DecisionTree ✔\n",
      "import MLJModels.DecisionTree_.DecisionTreeClassifier ✔\n"
     ]
    }
   ],
   "source": [
    "@load DecisionTreeClassifier"
   ]
  },
  {
   "cell_type": "markdown",
   "metadata": {},
   "source": [
    "### Single decision tree"
   ]
  },
  {
   "cell_type": "code",
   "execution_count": 4,
   "metadata": {},
   "outputs": [
    {
     "data": {
      "text/plain": [
       "\u001b[34mMachine{DecisionTreeClassifier} @ 1…00\u001b[39m\n"
      ]
     },
     "execution_count": 4,
     "metadata": {},
     "output_type": "execute_result"
    }
   ],
   "source": [
    "tree = DecisionTreeClassifier()\n",
    "mach = machine(tree, task)"
   ]
  },
  {
   "cell_type": "markdown",
   "metadata": {},
   "source": [
    "We can then just train the machine with default resampling and default metric.\n",
    "The default resampling is 6 fold CV so we get 6 metrics for each of these fold."
   ]
  },
  {
   "cell_type": "code",
   "execution_count": 5,
   "metadata": {},
   "outputs": [
    {
     "name": "stdout",
     "output_type": "stream",
     "text": [
      "┌ Info: Evaluating using cross-validation. \n",
      "│ nfolds=6. \n",
      "│ shuffle=false \n",
      "│ measure=cross_entropy \n",
      "│ operation=predict \n",
      "│ Resampling from all rows. \n",
      "└ @ MLJ /Users/tlienart/.julia/dev/MLJ/src/resampling.jl:137\n",
      "\r",
      "Cross-validating:  14%[===>                     ]  ETA: 0:00:00\r",
      "Cross-validating:  29%[=======>                 ]  ETA: 0:00:00\r",
      "Cross-validating:  43%[==========>              ]  ETA: 0:00:00\r",
      "Cross-validating:  57%[==============>          ]  ETA: 0:00:00\r",
      "Cross-validating:  71%[=================>       ]  ETA: 0:00:00\r",
      "Cross-validating:  86%[=====================>   ]  ETA: 0:00:00\r",
      "Cross-validating: 100%[=========================] Time: 0:00:00\n"
     ]
    },
    {
     "data": {
      "text/plain": [
       "6-element Array{Float64,1}:\n",
       " 0.032789822822990804\n",
       " 0.032789822822990804\n",
       " 0.19656360531187478 \n",
       " 0.1965636053118748  \n",
       " 0.5241111702896429  \n",
       " 0.3603373878007589  "
      ]
     },
     "execution_count": 5,
     "metadata": {},
     "output_type": "execute_result"
    }
   ],
   "source": [
    "evaluate!(mach)"
   ]
  },
  {
   "cell_type": "markdown",
   "metadata": {},
   "source": [
    "When predicting from that machine, the model gives normalized scores (probabilities) associated with each possible class."
   ]
  },
  {
   "cell_type": "code",
   "execution_count": 6,
   "metadata": {},
   "outputs": [
    {
     "data": {
      "text/plain": [
       "2-element Array{MLJBase.UnivariateFinite{CategoricalArrays.CategoricalString{UInt32},Float64},1}:\n",
       " MLJBase.UnivariateFinite{CategoricalArrays.CategoricalString{UInt32},Float64}(\n",
       "prob_given_level: Dict(\"virginica\" => 0.9677419354838711,\"setosa\" => 0.01612903225806452,\"versicolor\" => 0.01612903225806452)\n",
       ")\n",
       "\n",
       " MLJBase.UnivariateFinite{CategoricalArrays.CategoricalString{UInt32},Float64}(\n",
       "prob_given_level: Dict(\"virginica\" => 0.9677419354838711,\"setosa\" => 0.01612903225806452,\"versicolor\" => 0.01612903225806452)\n",
       ")\n"
      ]
     },
     "execution_count": 6,
     "metadata": {},
     "output_type": "execute_result"
    }
   ],
   "source": [
    "yhat = predict(mach, rows=1:2)"
   ]
  },
  {
   "cell_type": "markdown",
   "metadata": {},
   "source": [
    "We can return the score obtained for a given class for each instance:"
   ]
  },
  {
   "cell_type": "code",
   "execution_count": 7,
   "metadata": {},
   "outputs": [
    {
     "data": {
      "text/plain": [
       "2-element Array{Float64,1}:\n",
       " 0.9677419354838711\n",
       " 0.9677419354838711"
      ]
     },
     "execution_count": 7,
     "metadata": {},
     "output_type": "execute_result"
    }
   ],
   "source": [
    "[pdf(d, \"virginica\") for d in yhat]"
   ]
  },
  {
   "cell_type": "markdown",
   "metadata": {},
   "source": [
    "We can also just return the class with the highest score using  `predict_mode`:"
   ]
  },
  {
   "cell_type": "code",
   "execution_count": 8,
   "metadata": {},
   "outputs": [
    {
     "data": {
      "text/plain": [
       "2-element Array{CategoricalArrays.CategoricalString{UInt32},1}:\n",
       " \"virginica\"\n",
       " \"virginica\""
      ]
     },
     "execution_count": 8,
     "metadata": {},
     "output_type": "execute_result"
    }
   ],
   "source": [
    "predict_mode(mach, rows=1:2)"
   ]
  },
  {
   "cell_type": "markdown",
   "metadata": {},
   "source": [
    "## Using a bag of trees\n",
    "\n",
    "Here we use MLJ's ensembling machinery to train several individual decision trees.\n",
    "Note that we can just reuse the template for the tree created earlier.\n",
    "We use default parameters otherwise which trains 100 models in parallel."
   ]
  },
  {
   "cell_type": "code",
   "execution_count": 9,
   "metadata": {},
   "outputs": [
    {
     "data": {
      "text/plain": [
       "MLJ.ProbabilisticEnsembleModel(atom = \u001b[34mDecisionTreeClassifier @ 3…44\u001b[39m,\n",
       "                               weights = Float64[],\n",
       "                               bagging_fraction = 0.8,\n",
       "                               rng = MersenneTwister(UInt32[0x000004d2]),\n",
       "                               n = 100,\n",
       "                               parallel = true,\n",
       "                               out_of_bag_measure = Any[],)\u001b[34m @ 5…50\u001b[39m"
      ]
     },
     "execution_count": 9,
     "metadata": {},
     "output_type": "execute_result"
    }
   ],
   "source": [
    "bag = EnsembleModel(atom=tree)"
   ]
  },
  {
   "cell_type": "markdown",
   "metadata": {},
   "source": [
    "As usual, we wrap the model (bag of tree) with the task (data, interpretation, objective)"
   ]
  },
  {
   "cell_type": "code",
   "execution_count": 10,
   "metadata": {},
   "outputs": [
    {
     "data": {
      "text/plain": [
       "\u001b[34mMachine{ProbabilisticEnsembleModel{DecisionTreeClassifier}} @ 6…30\u001b[39m\n"
      ]
     },
     "execution_count": 10,
     "metadata": {},
     "output_type": "execute_result"
    }
   ],
   "source": [
    "mach = machine(bag, task)"
   ]
  },
  {
   "cell_type": "markdown",
   "metadata": {},
   "source": [
    "we can explore how many trees work best"
   ]
  },
  {
   "cell_type": "code",
   "execution_count": 11,
   "metadata": {},
   "outputs": [
    {
     "data": {
      "text/plain": [
       "5-element Array{Int64,1}:\n",
       "   10\n",
       "   32\n",
       "  100\n",
       "  316\n",
       " 1000"
      ]
     },
     "execution_count": 11,
     "metadata": {},
     "output_type": "execute_result"
    }
   ],
   "source": [
    "r = range(bag, :n, lower=10, upper=1000, scale=:log10)\n",
    "iterator(r, 5)"
   ]
  },
  {
   "cell_type": "code",
   "execution_count": 12,
   "metadata": {},
   "outputs": [
    {
     "data": {
      "image/png": "[encoded data removed]",
      "text/plain": [
       "PyPlot.Figure(PyObject <Figure size 1280x960 with 1 Axes>)"
      ]
     },
     "execution_count": 12,
     "metadata": {},
     "output_type": "execute_result"
    }
   ],
   "source": [
    "nruns  = 4\n",
    "curves = learning_curve!(mach,\n",
    "             resampling = Holdout(fraction_train=0.8),\n",
    "             range      = r,\n",
    "             measure    = cross_entropy,\n",
    "             n          = nruns,\n",
    "             verbosity  = 0)\n",
    "using PyPlot\n",
    "\n",
    "figure()\n",
    "\n",
    "for i ∈ 1:nruns\n",
    "    plot(curves.parameter_values, curves.measurements[:, i],\n",
    "         linestyle=\"none\", marker=\"o\")\n",
    "end\n",
    "plot(curves.parameter_values, sum(curves.measurements, dims=2)/nruns)\n",
    "\n",
    "xlabel(\"Number of trees\")\n",
    "ylabel(\"Cross entropy\")\n",
    "\n",
    "gcf()"
   ]
  },
  {
   "cell_type": "code",
   "execution_count": 13,
   "metadata": {},
   "outputs": [],
   "source": [
    "savefig(\"fig_interm-ensemble_learning-curve.pdf\")"
   ]
  },
  {
   "cell_type": "markdown",
   "metadata": {},
   "source": [
    "Let's set the number of atoms to 100 for now"
   ]
  },
  {
   "cell_type": "code",
   "execution_count": 14,
   "metadata": {},
   "outputs": [
    {
     "data": {
      "text/plain": [
       "100"
      ]
     },
     "execution_count": 14,
     "metadata": {},
     "output_type": "execute_result"
    }
   ],
   "source": [
    "bag.n = 100"
   ]
  },
  {
   "cell_type": "markdown",
   "metadata": {},
   "source": [
    "We can inspect the parameters of the ensemble like so:"
   ]
  },
  {
   "cell_type": "code",
   "execution_count": 15,
   "metadata": {},
   "outputs": [
    {
     "data": {
      "text/plain": [
       "(atom = (pruning_purity = 1.0,\n",
       "         max_depth = -1,\n",
       "         min_samples_leaf = 1,\n",
       "         min_samples_split = 2,\n",
       "         min_purity_increase = 0.0,\n",
       "         n_subfeatures = 0,\n",
       "         display_depth = 5,\n",
       "         post_prune = false,\n",
       "         merge_purity_threshold = 0.9,\n",
       "         pdf_smoothing = 0.05,),\n",
       " weights = Float64[],\n",
       " bagging_fraction = 0.8,\n",
       " rng = MersenneTwister(UInt32[0x000004d2]),\n",
       " n = 100,\n",
       " parallel = true,\n",
       " out_of_bag_measure = Any[],)"
      ]
     },
     "execution_count": 15,
     "metadata": {},
     "output_type": "execute_result"
    }
   ],
   "source": [
    "params(bag)"
   ]
  },
  {
   "cell_type": "markdown",
   "metadata": {},
   "source": [
    "*This notebook was generated using [Literate.jl](https://github.com/fredrikekre/Literate.jl).*"
   ]
  }
 ],
 "metadata": {
  "kernelspec": {
   "display_name": "Julia 1.3.0-DEV",
   "language": "julia",
   "name": "julia-1.3"
  },
  "language_info": {
   "file_extension": ".jl",
   "mimetype": "application/julia",
   "name": "julia",
   "version": "1.3.0"
  }
 },
 "nbformat": 4,
 "nbformat_minor": 3
}
