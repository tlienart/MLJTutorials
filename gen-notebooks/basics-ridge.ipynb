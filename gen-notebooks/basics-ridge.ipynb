{
 "cells": [
  {
   "cell_type": "code",
   "execution_count": 1,
   "metadata": {},
   "outputs": [
    {
     "data": {
      "text/plain": [
       "MersenneTwister(UInt32[0x000004d2])"
      ]
     },
     "execution_count": 1,
     "metadata": {},
     "output_type": "execute_result"
    }
   ],
   "source": [
    "using MLJ, RDatasets\n",
    "using Random:seed!\n",
    "seed!(1234)"
   ]
  },
  {
   "cell_type": "markdown",
   "metadata": {},
   "source": [
    "## MLJ Basics"
   ]
  },
  {
   "cell_type": "code",
   "execution_count": 2,
   "metadata": {},
   "outputs": [
    {
     "data": {
      "text/html": [
       "<table class=\"data-frame\"><thead><tr><th></th><th>Crim</th><th>Zn</th><th>Indus</th><th>Chas</th><th>NOx</th><th>Rm</th><th>Age</th><th>Dis</th><th>Rad</th><th>Tax</th></tr><tr><th></th><th>Float64</th><th>Float64</th><th>Float64</th><th>Int64</th><th>Float64</th><th>Float64</th><th>Float64</th><th>Float64</th><th>Int64</th><th>Int64</th></tr></thead><tbody><p>3 rows × 14 columns (omitted printing of 4 columns)</p><tr><th>1</th><td>0.00632</td><td>18.0</td><td>2.31</td><td>0</td><td>0.538</td><td>6.575</td><td>65.2</td><td>4.09</td><td>1</td><td>296</td></tr><tr><th>2</th><td>0.02731</td><td>0.0</td><td>7.07</td><td>0</td><td>0.469</td><td>6.421</td><td>78.9</td><td>4.9671</td><td>2</td><td>242</td></tr><tr><th>3</th><td>0.02729</td><td>0.0</td><td>7.07</td><td>0</td><td>0.469</td><td>7.185</td><td>61.1</td><td>4.9671</td><td>2</td><td>242</td></tr></tbody></table>"
      ],
      "text/plain": [
       "3×14 DataFrames.DataFrame. Omitted printing of 7 columns\n",
       "│ Row │ Crim    │ Zn      │ Indus   │ Chas  │ NOx     │ Rm      │ Age     │\n",
       "│     │ \u001b[90mFloat64\u001b[39m │ \u001b[90mFloat64\u001b[39m │ \u001b[90mFloat64\u001b[39m │ \u001b[90mInt64\u001b[39m │ \u001b[90mFloat64\u001b[39m │ \u001b[90mFloat64\u001b[39m │ \u001b[90mFloat64\u001b[39m │\n",
       "├─────┼─────────┼─────────┼─────────┼───────┼─────────┼─────────┼─────────┤\n",
       "│ 1   │ 0.00632 │ 18.0    │ 2.31    │ 0     │ 0.538   │ 6.575   │ 65.2    │\n",
       "│ 2   │ 0.02731 │ 0.0     │ 7.07    │ 0     │ 0.469   │ 6.421   │ 78.9    │\n",
       "│ 3   │ 0.02729 │ 0.0     │ 7.07    │ 0     │ 0.469   │ 7.185   │ 61.1    │"
      ]
     },
     "execution_count": 2,
     "metadata": {},
     "output_type": "execute_result"
    }
   ],
   "source": [
    "boston = dataset(\"MASS\", \"Boston\")\n",
    "first(boston, 3)"
   ]
  },
  {
   "cell_type": "markdown",
   "metadata": {},
   "source": [
    "### Machine types and Scitypes\n",
    "\n",
    "MLJ distinguishes between the machine type (how the data is originally encoded) and the scientific type (how the user believes the data should be interpreted).\n",
    "So for instance, it may be that an \"Age\" feature is encoded as some integer format but should be interpreted as a continuous feature.\n",
    "\n",
    "To one scitype can correspond only one (Abstract)type e.g. Continuous <> AbstractFloat.\n",
    "The opposite is not true as one machine type can correspond to several scientific types (e.g. in categorical cases).\n",
    "\n",
    "When looking at data with no information about the scientific types, MLJ will try to guess what they are, if that guess is incorrect, the user should specify the differences.\n",
    "\n",
    "**Current context**: most features are floating point number and so will be interpreted as continuous. However for instance \"Rad\" will be interpreted as a `Count` but we'd like to interpret is as `Continuous`."
   ]
  },
  {
   "cell_type": "code",
   "execution_count": 3,
   "metadata": {},
   "outputs": [
    {
     "data": {
      "text/plain": [
       "(Crim = MLJBase.Continuous,\n",
       " Zn = MLJBase.Continuous,\n",
       " Indus = MLJBase.Continuous,\n",
       " Chas = MLJBase.Count,\n",
       " NOx = MLJBase.Continuous,\n",
       " Rm = MLJBase.Continuous,\n",
       " Age = MLJBase.Continuous,\n",
       " Dis = MLJBase.Continuous,\n",
       " Rad = MLJBase.Count,\n",
       " Tax = MLJBase.Count,\n",
       " PTRatio = MLJBase.Continuous,\n",
       " Black = MLJBase.Continuous,\n",
       " LStat = MLJBase.Continuous,\n",
       " MedV = MLJBase.Continuous,)"
      ]
     },
     "execution_count": 3,
     "metadata": {},
     "output_type": "execute_result"
    }
   ],
   "source": [
    "scitypes(boston)"
   ]
  },
  {
   "cell_type": "markdown",
   "metadata": {},
   "source": [
    "### Tasks\n",
    "\n",
    "Tasks wrap\n",
    "\n",
    "1. the data\n",
    "1. the interpretation of the data (see scitypes above)\n",
    "1. the learning objectives (supervised/unsupervised etc)\n",
    "\n",
    "Here we want to specify the data, change the interpretation of `Rad` and `Tax` and specify that we want a supervised model with probabilistic output with the response being the `MedV` variable."
   ]
  },
  {
   "cell_type": "code",
   "execution_count": 4,
   "metadata": {},
   "outputs": [
    {
     "name": "stdout",
     "output_type": "stream",
     "text": [
      "┌ Info: \n",
      "│ is_probabilistic = true\n",
      "│ input_scitype_union = MLJBase.Continuous \n",
      "│ target_scitype_union = MLJBase.Continuous\n",
      "└ @ MLJBase /Users/tlienart/.julia/dev/MLJBase/src/tasks.jl:104\n"
     ]
    },
    {
     "data": {
      "text/plain": [
       "\u001b[34mSupervisedTask @ 1…85\u001b[39m\n"
      ]
     },
     "execution_count": 4,
     "metadata": {},
     "output_type": "execute_result"
    }
   ],
   "source": [
    "task = supervised(\n",
    "        data   = boston,\n",
    "        target = :MedV,\n",
    "        ignore = :Chas,\n",
    "        types  = Dict(:Rad=>Continuous, :Tax=>Continuous),\n",
    "        is_probabilistic = true)\n",
    "# In case the data is arranged in a specific order, we may want to shuffle it so that this doesn't impact the training.\n",
    "shuffle!(task)"
   ]
  },
  {
   "cell_type": "markdown",
   "metadata": {},
   "source": [
    "### Models\n",
    "\n",
    "What models are available to us for the given task?"
   ]
  },
  {
   "cell_type": "code",
   "execution_count": 5,
   "metadata": {},
   "outputs": [
    {
     "data": {
      "text/plain": [
       "Dict{Any,Any} with 2 entries:\n",
       "  \"MLJ\" => Any[\"MLJ.Constant.ConstantRegressor\"]\n",
       "  \"GLM\" => Any[\"OLSRegressor\"]"
      ]
     },
     "execution_count": 5,
     "metadata": {},
     "output_type": "execute_result"
    }
   ],
   "source": [
    "models(task)"
   ]
  },
  {
   "cell_type": "markdown",
   "metadata": {},
   "source": [
    "If we just want a deterministic model, a few more models are available:"
   ]
  },
  {
   "cell_type": "code",
   "execution_count": 6,
   "metadata": {},
   "outputs": [
    {
     "data": {
      "text/plain": [
       "Dict{Any,Any} with 6 entries:\n",
       "  \"MultivariateStats\" => Any[\"RidgeRegressor\"]\n",
       "  \"MLJ\"               => Any[\"MLJ.Constant.DeterministicConstantRegressor\", \"ML…\n",
       "  \"DecisionTree\"      => Any[\"DecisionTreeRegressor\"]\n",
       "  \"ScikitLearn\"       => Any[\"SVMLRegressor\", \"ElasticNet\", \"ElasticNetCV\", \"SV…\n",
       "  \"LIBSVM\"            => Any[\"EpsilonSVR\", \"NuSVR\"]\n",
       "  \"XGBoost\"           => Any[\"XGBoostRegressor\"]"
      ]
     },
     "execution_count": 6,
     "metadata": {},
     "output_type": "execute_result"
    }
   ],
   "source": [
    "task.is_probabilistic = false\n",
    "models(task)"
   ]
  },
  {
   "cell_type": "markdown",
   "metadata": {},
   "source": [
    "### Binding a task to a model\n",
    "\n",
    "Let's say we want to use a simple ridge regression to start with.\n",
    "We first need to load it, specify the parameter and wrap the task and the model in a `machine`."
   ]
  },
  {
   "cell_type": "code",
   "execution_count": 7,
   "metadata": {},
   "outputs": [
    {
     "name": "stdout",
     "output_type": "stream",
     "text": [
      "import MLJModels ✔\n",
      "import MultivariateStats ✔\n",
      "import MLJModels.MultivariateStats_.RidgeRegressor ✔\n"
     ]
    },
    {
     "data": {
      "text/plain": [
       "MLJModels.MultivariateStats_.RidgeRegressor(lambda = 0.1,)\u001b[34m @ 3…04\u001b[39m"
      ]
     },
     "execution_count": 7,
     "metadata": {},
     "output_type": "execute_result"
    }
   ],
   "source": [
    "@load RidgeRegressor\n",
    "ridge  = RidgeRegressor(lambda=0.1)"
   ]
  },
  {
   "cell_type": "code",
   "execution_count": 8,
   "metadata": {},
   "outputs": [
    {
     "data": {
      "text/plain": [
       "\u001b[34mMachine{RidgeRegressor} @ 9…34\u001b[39m\n"
      ]
     },
     "execution_count": 8,
     "metadata": {},
     "output_type": "execute_result"
    }
   ],
   "source": [
    "mach = machine(ridge, task)"
   ]
  },
  {
   "cell_type": "markdown",
   "metadata": {},
   "source": [
    "### Training and evaluation of performance\n",
    "\n",
    "The step by step approach involves:\n",
    "\n",
    "* creating a train/test split\n",
    "* fitting the machine\n",
    "* predicting on the test set\n",
    "* checking the performance"
   ]
  },
  {
   "cell_type": "code",
   "execution_count": 9,
   "metadata": {},
   "outputs": [
    {
     "name": "stdout",
     "output_type": "stream",
     "text": [
      "┌ Info: Training \u001b[34mMachine{RidgeRegressor} @ 9…34\u001b[39m.\n",
      "└ @ MLJ /Users/tlienart/.julia/dev/MLJ/src/machines.jl:140\n"
     ]
    },
    {
     "data": {
      "text/plain": [
       "152-element Array{Float64,1}:\n",
       " 27.875406760269595\n",
       " 22.539700844045903\n",
       " 20.687610162632115\n",
       " 16.055185145971578\n",
       " 27.035480363584426\n",
       " 22.08399548853992 \n",
       " 25.68178700626379 \n",
       " 16.197770168117202\n",
       " 28.660543916730674\n",
       " 19.938590782495897\n",
       "  ⋮                \n",
       "  6.411957395028047\n",
       " 25.220138235162814\n",
       " 20.73029337806124 \n",
       " 20.503424619204196\n",
       " 14.247863747123866\n",
       " 25.634903856481294\n",
       " 23.898588020215485\n",
       " 19.052170414464587\n",
       " 28.0721791686803  "
      ]
     },
     "execution_count": 9,
     "metadata": {},
     "output_type": "execute_result"
    }
   ],
   "source": [
    "train, test = partition(1:nrows(task), 0.7)\n",
    "fit!(mach, rows=train)\n",
    "yhat = predict(mach, rows=test)"
   ]
  },
  {
   "cell_type": "code",
   "execution_count": 10,
   "metadata": {},
   "outputs": [
    {
     "data": {
      "text/plain": [
       "5.189945057488582"
      ]
     },
     "execution_count": 10,
     "metadata": {},
     "output_type": "execute_result"
    }
   ],
   "source": [
    "rms(yhat, task.y[test])"
   ]
  },
  {
   "cell_type": "markdown",
   "metadata": {},
   "source": [
    "This can be done \"all in one\" using the `evaluate!` function (which returns the metric)"
   ]
  },
  {
   "cell_type": "code",
   "execution_count": 11,
   "metadata": {},
   "outputs": [
    {
     "name": "stdout",
     "output_type": "stream",
     "text": [
      "┌ Info: Evaluating using a holdout set. \n",
      "│ fraction_train=0.7 \n",
      "│ shuffle=false \n",
      "│ measure=rms \n",
      "│ operation=predict \n",
      "│ Resampling from all rows. \n",
      "└ @ MLJ /Users/tlienart/.julia/dev/MLJ/src/resampling.jl:92\n"
     ]
    },
    {
     "data": {
      "text/plain": [
       "12-element Array{Float64,1}:\n",
       "  -0.09729297300527442 \n",
       "   0.036081041218516664\n",
       "   0.014619300443044603\n",
       " -16.442630582387928   \n",
       "   3.6064512838027496  \n",
       "   0.018083869485879565\n",
       "  -1.2542562200220786  \n",
       "   0.33786937633742553 \n",
       "  -0.013689025192817809\n",
       "  -0.9578864713233827  \n",
       "   0.009176603960309929\n",
       "  -0.5803250413745314  "
      ]
     },
     "execution_count": 11,
     "metadata": {},
     "output_type": "execute_result"
    }
   ],
   "source": [
    "evaluate!(mach,\n",
    "          resampling = Holdout(fraction_train = 0.7),\n",
    "          measure    = rms)\n",
    "# Either way, you can extract the parameters with `fitted_params` applied to the machine:\n",
    "fp = fitted_params(mach);\n",
    "fp.coefficients"
   ]
  },
  {
   "cell_type": "code",
   "execution_count": 12,
   "metadata": {},
   "outputs": [
    {
     "data": {
      "text/plain": [
       "36.41191172003011"
      ]
     },
     "execution_count": 12,
     "metadata": {},
     "output_type": "execute_result"
    }
   ],
   "source": [
    "fp.bias"
   ]
  },
  {
   "cell_type": "markdown",
   "metadata": {},
   "source": [
    "*This notebook was generated using [Literate.jl](https://github.com/fredrikekre/Literate.jl).*"
   ]
  }
 ],
 "metadata": {
  "kernelspec": {
   "display_name": "Julia 1.3.0-DEV",
   "language": "julia",
   "name": "julia-1.3"
  },
  "language_info": {
   "file_extension": ".jl",
   "mimetype": "application/julia",
   "name": "julia",
   "version": "1.3.0"
  }
 },
 "nbformat": 4,
 "nbformat_minor": 3
}
